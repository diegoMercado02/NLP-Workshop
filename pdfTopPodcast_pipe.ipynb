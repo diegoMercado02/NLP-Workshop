{
 "cells": [
  {
   "cell_type": "code",
   "execution_count": 34,
   "metadata": {},
   "outputs": [
    {
     "name": "stderr",
     "output_type": "stream",
     "text": [
      "2024-12-04 00:00:03.177 Thread 'MainThread': missing ScriptRunContext! This warning can be ignored when running in bare mode.\n",
      "2024-12-04 00:00:03.177 Thread 'MainThread': missing ScriptRunContext! This warning can be ignored when running in bare mode.\n",
      "2024-12-04 00:00:03.178 Thread 'MainThread': missing ScriptRunContext! This warning can be ignored when running in bare mode.\n",
      "2024-12-04 00:00:03.178 Thread 'MainThread': missing ScriptRunContext! This warning can be ignored when running in bare mode.\n",
      "2024-12-04 00:00:03.179 Thread 'MainThread': missing ScriptRunContext! This warning can be ignored when running in bare mode.\n",
      "2024-12-04 00:00:03.180 Thread 'MainThread': missing ScriptRunContext! This warning can be ignored when running in bare mode.\n",
      "2024-12-04 00:00:03.180 Thread 'MainThread': missing ScriptRunContext! This warning can be ignored when running in bare mode.\n",
      "2024-12-04 00:00:03.181 Thread 'MainThread': missing ScriptRunContext! This warning can be ignored when running in bare mode.\n",
      "2024-12-04 00:00:03.181 Thread 'MainThread': missing ScriptRunContext! This warning can be ignored when running in bare mode.\n"
     ]
    }
   ],
   "source": [
    "import streamlit as st\n",
    "\n",
    "st.title(\"PDF to Podcast Converter\")\n",
    "\n",
    "uploaded_file = st.file_uploader(\"Upload a PDF file\", type=\"pdf\")\n",
    "if uploaded_file is not None:\n",
    "    st.success(\"File uploaded successfully!\")\n",
    "else:\n",
    "    st.info(\"Awaiting PDF file upload.\")\n"
   ]
  },
  {
   "cell_type": "code",
   "execution_count": 35,
   "metadata": {},
   "outputs": [],
   "source": [
    "import PyPDF2\n",
    "\n",
    "def extract_text_from_pdf(pdf_file):\n",
    "    pdf_reader = PyPDF2.PdfReader(pdf_file)\n",
    "    text = \"\"\n",
    "    for page in pdf_reader.pages:\n",
    "        text += page.extract_text()\n",
    "    return text\n",
    "\n",
    "if uploaded_file is not None:\n",
    "    raw_text = extract_text_from_pdf(uploaded_file)\n",
    "    st.subheader(\"Extracted Text\")\n",
    "    st.write(raw_text)\n"
   ]
  },
  {
   "cell_type": "code",
   "execution_count": 36,
   "metadata": {},
   "outputs": [],
   "source": [
    "import nltk\n",
    "from nltk.tokenize import sent_tokenize\n",
    "\n",
    "def split_text_into_chunks(text, max_chunk_size=500):\n",
    "    sentences = sent_tokenize(text)\n",
    "    chunks = []\n",
    "    current_chunk = \"\"\n",
    "    for sentence in sentences:\n",
    "        if len(current_chunk) + len(sentence) <= max_chunk_size:\n",
    "            current_chunk += \" \" + sentence\n",
    "        else:\n",
    "            chunks.append(current_chunk)\n",
    "            current_chunk = sentence\n",
    "    if current_chunk:\n",
    "        chunks.append(current_chunk)\n",
    "    return chunks\n",
    "\n",
    "if uploaded_file is not None:\n",
    "    raw_text = extract_text_from_pdf(uploaded_file)\n",
    "    text_chunks = split_text_into_chunks(raw_text)\n"
   ]
  },
  {
   "cell_type": "code",
   "execution_count": 37,
   "metadata": {},
   "outputs": [],
   "source": [
    "from sentence_transformers import SentenceTransformer\n",
    "import numpy as np\n",
    "\n",
    "def generate_embeddings(chunks):\n",
    "    model_name = 'all-MiniLM-L6'\n",
    "    model = SentenceTransformer(model_name)\n",
    "    embeddings = model.encode(chunks)\n",
    "    return embeddings\n",
    "\n"
   ]
  },
  {
   "cell_type": "code",
   "execution_count": 38,
   "metadata": {},
   "outputs": [],
   "source": [
    "def select_top_n_chunks(chunks, embeddings, n=5):\n",
    "    # Calculate the centroid of embeddings\n",
    "    centroid = np.mean(embeddings, axis=0)\n",
    "    # Calculate similarity of each chunk to the centroid\n",
    "    similarities = np.dot(embeddings, centroid)\n",
    "    # Get indices of top N similar chunks\n",
    "    top_n_indices = np.argsort(similarities)[-n:]\n",
    "    selected_chunks = [chunks[i] for i in top_n_indices]\n",
    "    return selected_chunks\n",
    "\n",
    "if uploaded_file is not None:\n",
    "    selected_chunks = select_top_n_chunks(text_chunks, chunk_embeddings, n=5)\n"
   ]
  },
  {
   "cell_type": "code",
   "execution_count": 39,
   "metadata": {},
   "outputs": [],
   "source": [
    "from transformers import AutoModelForSeq2SeqLM, AutoTokenizer\n",
    "\n",
    "def generate_podcast_script_with_embeddings(chunks):\n",
    "    model_name = 'facebook/bart-large-cnn'\n",
    "    tokenizer = AutoTokenizer.from_pretrained(model_name)\n",
    "    model = AutoModelForSeq2SeqLM.from_pretrained(model_name)\n",
    "    \n",
    "    podcast_script = \"\"\n",
    "    for chunk in chunks:\n",
    "        inputs = tokenizer.encode(chunk, return_tensors='pt', max_length=1024, truncation=True)\n",
    "        summary_ids = model.generate(inputs, max_length=150, min_length=40, length_penalty=2.0, num_beams=4, early_stopping=True)\n",
    "        summary = tokenizer.decode(summary_ids[0], skip_special_tokens=True)\n",
    "        podcast_script += summary + \" \"\n",
    "    return podcast_script\n",
    "\n",
    "if uploaded_file is not None:\n",
    "    podcast_script = generate_podcast_script_with_embeddings(selected_chunks)\n",
    "    st.subheader(\"Generated Podcast Script\")\n",
    "    st.write(podcast_script)\n"
   ]
  },
  {
   "cell_type": "code",
   "execution_count": 40,
   "metadata": {},
   "outputs": [],
   "source": [
    "from gtts import gTTS\n",
    "\n",
    "def text_to_speech(text):\n",
    "    tts = gTTS(text)\n",
    "    tts.save(\"podcast.mp3\")\n",
    "\n",
    "if uploaded_file is not None:\n",
    "    text_to_speech(podcast_script)\n",
    "    audio_file = open(\"podcast.mp3\", \"rb\")\n",
    "    audio_bytes = audio_file.read()\n",
    "    st.audio(audio_bytes, format='audio/mp3')\n"
   ]
  },
  {
   "cell_type": "code",
   "execution_count": 41,
   "metadata": {},
   "outputs": [],
   "source": [
    "def download_audio():\n",
    "    with open(\"podcast.mp3\", \"rb\") as file:\n",
    "        btn = st.download_button(\n",
    "            label=\"Download Podcast\",\n",
    "            data=file,\n",
    "            file_name=\"podcast.mp3\",\n",
    "            mime=\"audio/mpeg\"\n",
    "        )\n"
   ]
  },
  {
   "cell_type": "code",
   "execution_count": 42,
   "metadata": {},
   "outputs": [
    {
     "name": "stderr",
     "output_type": "stream",
     "text": [
      "2024-12-04 00:00:03.306 Thread 'MainThread': missing ScriptRunContext! This warning can be ignored when running in bare mode.\n",
      "2024-12-04 00:00:03.307 Thread 'MainThread': missing ScriptRunContext! This warning can be ignored when running in bare mode.\n"
     ]
    }
   ],
   "source": [
    "if uploaded_file is not None:\n",
    "    raw_text = extract_text_from_pdf(uploaded_file)\n",
    "    st.subheader(\"Extracted Text\")\n",
    "    st.write(raw_text)\n",
    "    \n",
    "    text_chunks = split_text_into_chunks(raw_text)\n",
    "    chunk_embeddings = generate_embeddings(text_chunks)\n",
    "    selected_chunks = select_top_n_chunks(text_chunks, chunk_embeddings, n=5)\n",
    "    \n",
    "    podcast_script = generate_podcast_script_with_embeddings(selected_chunks)\n",
    "    st.subheader(\"Generated Podcast Script\")\n",
    "    st.write(podcast_script)\n",
    "    \n",
    "    text_to_speech(podcast_script)\n",
    "    audio_file = open(\"podcast.mp3\", \"rb\")\n",
    "    audio_bytes = audio_file.read()\n",
    "    st.audio(audio_bytes, format='audio/mp3')\n",
    "    \n",
    "    download_audio()\n",
    "else:\n",
    "    st.info(\"Please upload a PDF file to proceed.\")\n"
   ]
  }
 ],
 "metadata": {
  "kernelspec": {
   "display_name": "pdfToPodcast",
   "language": "python",
   "name": "python3"
  },
  "language_info": {
   "codemirror_mode": {
    "name": "ipython",
    "version": 3
   },
   "file_extension": ".py",
   "mimetype": "text/x-python",
   "name": "python",
   "nbconvert_exporter": "python",
   "pygments_lexer": "ipython3",
   "version": "3.10.15"
  }
 },
 "nbformat": 4,
 "nbformat_minor": 2
}
